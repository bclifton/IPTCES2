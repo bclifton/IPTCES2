{
 "metadata": {
  "name": "",
  "signature": "sha256:64c088619abe1091c3c0e9ff1877962b4bba1d2814a143e6173e8f441ce1f8d8"
 },
 "nbformat": 3,
 "nbformat_minor": 0,
 "worksheets": [
  {
   "cells": [
    {
     "cell_type": "heading",
     "level": 1,
     "metadata": {},
     "source": [
      "\n",
      "International Political Tele-Conferencing Equilibrium System algorithm"
     ]
    },
    {
     "cell_type": "markdown",
     "metadata": {},
     "source": [
      "The following is the code used to generate a version of the predictive tool that powers the International Political Tele-Conferencing Equilibrium System. The styling of the out graph has been changed."
     ]
    },
    {
     "cell_type": "code",
     "collapsed": false,
     "input": [
      "%pylab inline\n",
      "import datetime as dt\n",
      "import numpy as np\n",
      "import pandas as pd\n",
      "from pandas import *\n",
      "\n",
      "import matplotlib.pyplot as plt\n",
      "\n",
      "import statsmodels.api as sm\n",
      "from statsmodels.tsa import *\n",
      "tsa = sm.tsa\n"
     ],
     "language": "python",
     "metadata": {},
     "outputs": [
      {
       "output_type": "stream",
       "stream": "stdout",
       "text": [
        "Populating the interactive namespace from numpy and matplotlib\n"
       ]
      }
     ],
     "prompt_number": 1
    },
    {
     "cell_type": "code",
     "collapsed": false,
     "input": [
      "# Get the data here: \n",
      "# http://storage.googleapis.com/gdelt_bc/Barack_Obama.csv\n",
      "\n",
      "PATH = '/Users/path/to/folder/' # This is where the downloaded .csv is stored locally.\n",
      "q = 'Barack_Obama'\n",
      "csv = q + '.csv'\n",
      "df = pd.read_csv(PATH + csv, index_col='SQLDATE', parse_dates=True)\n",
      "df.head()"
     ],
     "language": "python",
     "metadata": {},
     "outputs": [
      {
       "html": [
        "<div style=\"max-height:1000px;max-width:1500px;overflow:auto;\">\n",
        "<table border=\"1\" class=\"dataframe\">\n",
        "  <thead>\n",
        "    <tr style=\"text-align: right;\">\n",
        "      <th></th>\n",
        "      <th>Actor1Name</th>\n",
        "      <th>GoldsteinScale</th>\n",
        "      <th>NumMentions</th>\n",
        "    </tr>\n",
        "    <tr>\n",
        "      <th>SQLDATE</th>\n",
        "      <th></th>\n",
        "      <th></th>\n",
        "      <th></th>\n",
        "    </tr>\n",
        "  </thead>\n",
        "  <tbody>\n",
        "    <tr>\n",
        "      <th>2014-01-23</th>\n",
        "      <td> BARACK OBAMA</td>\n",
        "      <td> 1.9</td>\n",
        "      <td>  2</td>\n",
        "    </tr>\n",
        "    <tr>\n",
        "      <th>2014-01-23</th>\n",
        "      <td> BARACK OBAMA</td>\n",
        "      <td> 1.9</td>\n",
        "      <td>  2</td>\n",
        "    </tr>\n",
        "    <tr>\n",
        "      <th>2014-01-23</th>\n",
        "      <td> BARACK OBAMA</td>\n",
        "      <td> 1.9</td>\n",
        "      <td> 12</td>\n",
        "    </tr>\n",
        "    <tr>\n",
        "      <th>2014-01-23</th>\n",
        "      <td> BARACK OBAMA</td>\n",
        "      <td> 1.9</td>\n",
        "      <td>  2</td>\n",
        "    </tr>\n",
        "    <tr>\n",
        "      <th>2014-01-23</th>\n",
        "      <td> BARACK OBAMA</td>\n",
        "      <td> 1.9</td>\n",
        "      <td>  2</td>\n",
        "    </tr>\n",
        "  </tbody>\n",
        "</table>\n",
        "</div>"
       ],
       "metadata": {},
       "output_type": "pyout",
       "prompt_number": 2,
       "text": [
        "              Actor1Name  GoldsteinScale  NumMentions\n",
        "SQLDATE                                              \n",
        "2014-01-23  BARACK OBAMA             1.9            2\n",
        "2014-01-23  BARACK OBAMA             1.9            2\n",
        "2014-01-23  BARACK OBAMA             1.9           12\n",
        "2014-01-23  BARACK OBAMA             1.9            2\n",
        "2014-01-23  BARACK OBAMA             1.9            2"
       ]
      }
     ],
     "prompt_number": 2
    },
    {
     "cell_type": "code",
     "collapsed": false,
     "input": [
      "# Get the data here: \n",
      "# http://storage.googleapis.com/gdelt_bc/goldstein_suggestions.csv\n",
      "\n",
      "GS_PATH = 'Users/path/to/folder/goldstein_suggestions.tsv'\n",
      "gsCodes = pd.read_csv(GS_PATH, index_col='code')\n",
      "gsCodes.head()"
     ],
     "language": "python",
     "metadata": {},
     "outputs": [
      {
       "html": [
        "<div style=\"max-height:1000px;max-width:1500px;overflow:auto;\">\n",
        "<table border=\"1\" class=\"dataframe\">\n",
        "  <thead>\n",
        "    <tr style=\"text-align: right;\">\n",
        "      <th></th>\n",
        "      <th>description</th>\n",
        "    </tr>\n",
        "    <tr>\n",
        "      <th>code</th>\n",
        "      <th></th>\n",
        "    </tr>\n",
        "  </thead>\n",
        "  <tbody>\n",
        "    <tr>\n",
        "      <th>-10.0</th>\n",
        "      <td> Military attack; clash; assault; Biological we...</td>\n",
        "    </tr>\n",
        "    <tr>\n",
        "      <th>-9.9 </th>\n",
        "      <td> Assassination; Guerrilla assault; Paramilitary...</td>\n",
        "    </tr>\n",
        "    <tr>\n",
        "      <th>-9.8 </th>\n",
        "      <td> Assassination; Guerrilla assault; Paramilitary...</td>\n",
        "    </tr>\n",
        "    <tr>\n",
        "      <th>-9.7 </th>\n",
        "      <td> Assassination; Guerrilla assault; Paramilitary...</td>\n",
        "    </tr>\n",
        "    <tr>\n",
        "      <th>-9.6 </th>\n",
        "      <td> Assassination; Guerrilla assault; Paramilitary...</td>\n",
        "    </tr>\n",
        "  </tbody>\n",
        "</table>\n",
        "</div>"
       ],
       "metadata": {},
       "output_type": "pyout",
       "prompt_number": 3,
       "text": [
        "                                             description\n",
        "code                                                    \n",
        "-10.0  Military attack; clash; assault; Biological we...\n",
        "-9.9   Assassination; Guerrilla assault; Paramilitary...\n",
        "-9.8   Assassination; Guerrilla assault; Paramilitary...\n",
        "-9.7   Assassination; Guerrilla assault; Paramilitary...\n",
        "-9.6   Assassination; Guerrilla assault; Paramilitary..."
       ]
      }
     ],
     "prompt_number": 3
    },
    {
     "cell_type": "code",
     "collapsed": false,
     "input": [
      "tomorrow = str(dt.date.today() + dt.timedelta(days=1))\n",
      "twoweeksago = str(dt.date.today() - dt.timedelta(days=14))\n",
      "nextweek = dt.date.today() + dt.timedelta(days=8)"
     ],
     "language": "python",
     "metadata": {},
     "outputs": [],
     "prompt_number": 4
    },
    {
     "cell_type": "code",
     "collapsed": false,
     "input": [
      "# These steps incorporate the number of mentions a Goldstein score is associated with,\n",
      "# reducing the impact of error in the event encoding,\n",
      "# making the average better reflect the event's presence in the GDELT.\n",
      "\n",
      "df['GoldMentions'] = df['GoldsteinScale'] * df['NumMentions']\n",
      "goldstein = df.groupby([df.index.date]).agg({'GoldMentions': np.sum, 'NumMentions': np.sum})\n",
      "goldstein['GoldAverage'] = goldstein['GoldMentions'] / goldstein['NumMentions']"
     ],
     "language": "python",
     "metadata": {},
     "outputs": [],
     "prompt_number": 5
    },
    {
     "cell_type": "code",
     "collapsed": false,
     "input": [
      "full_daterange = pd.date_range(start=min(df.index),end=max(df.index))\n",
      "goldstein = goldstein.reindex(full_daterange).ffill()"
     ],
     "language": "python",
     "metadata": {},
     "outputs": [],
     "prompt_number": 6
    },
    {
     "cell_type": "code",
     "collapsed": false,
     "input": [
      "# Creates a rolling_mean using a 30-day window:\n",
      "goldstein['sma-30'] = pd.rolling_mean(goldstein['GoldAverage'],30)"
     ],
     "language": "python",
     "metadata": {},
     "outputs": [],
     "prompt_number": 7
    },
    {
     "cell_type": "code",
     "collapsed": false,
     "input": [
      "# The first 30 entries in the rolling_mean become NaN, so...\n",
      "grm = goldstein['sma-30'].dropna()"
     ],
     "language": "python",
     "metadata": {},
     "outputs": [],
     "prompt_number": 8
    },
    {
     "cell_type": "code",
     "collapsed": false,
     "input": [
      "test_sample = pd.DataFrame(grm[-400:]) # 200 entries seems to be enough to determine stationarity.\n",
      "test_sample.index = pd.to_datetime(test_sample.index)\n",
      "test_sample.columns = ['Goldstein daily average']\n",
      "\n",
      "plot_sample = pd.DataFrame(grm[-200:])\n",
      "plot_sample.index = pd.to_datetime(plot_sample.index)\n",
      "plot_sample.columns = ['Goldstein daily average']"
     ],
     "language": "python",
     "metadata": {},
     "outputs": [],
     "prompt_number": 9
    },
    {
     "cell_type": "code",
     "collapsed": false,
     "input": [
      "model = sm.tsa.ARMA(test_sample,(12,0)).fit() # 12 Lags seems to be enough to get an accurate prediction."
     ],
     "language": "python",
     "metadata": {},
     "outputs": [],
     "prompt_number": 10
    },
    {
     "cell_type": "code",
     "collapsed": false,
     "input": [
      "prediction = model.predict(twoweeksago, str(nextweek), dynamic=False)\n",
      "\n",
      "#  looked about 1 day off, so...\n",
      "prediction = prediction.shift(-1)"
     ],
     "language": "python",
     "metadata": {},
     "outputs": [],
     "prompt_number": 11
    },
    {
     "cell_type": "code",
     "collapsed": false,
     "input": [
      "predicts = round(prediction.ix[tomorrow:str(nextweek)].mean(numeric_only=float),1)\n",
      "print predicts"
     ],
     "language": "python",
     "metadata": {},
     "outputs": [
      {
       "output_type": "stream",
       "stream": "stdout",
       "text": [
        "1.2\n"
       ]
      }
     ],
     "prompt_number": 12
    },
    {
     "cell_type": "code",
     "collapsed": false,
     "input": [
      "startdate = datetime.date(plot_sample.index[0])\n",
      "enddate = dt.date.today() + dt.timedelta(days=8)\n",
      "daterange = [startdate + dt.timedelta(days=x) for x in range(0, (enddate-startdate).days)]"
     ],
     "language": "python",
     "metadata": {},
     "outputs": [],
     "prompt_number": 13
    },
    {
     "cell_type": "code",
     "collapsed": false,
     "input": [
      "suggestion = round(((predicts - 1) * -1),1)\n",
      "gsDescription = gsCodes.loc[suggestion].values[0]\n",
      "gsDescription"
     ],
     "language": "python",
     "metadata": {},
     "outputs": [
      {
       "metadata": {},
       "output_type": "pyout",
       "prompt_number": 14,
       "text": [
        "'Comment on a situation'"
       ]
      }
     ],
     "prompt_number": 14
    },
    {
     "cell_type": "code",
     "collapsed": false,
     "input": [
      "plot_sample.plot(kind='line',\n",
      "                 title=q + ': Goldstein Trend and Prediction',\n",
      "                 ylim = (-10,10),\n",
      "                 figsize=(18,8),\n",
      "                 color = 'steelblue')\n",
      "prediction.plot(kind = 'line', \n",
      "                label = 'prediction',\n",
      "                legend = True,\n",
      "                color = 'red',)"
     ],
     "language": "python",
     "metadata": {},
     "outputs": [
      {
       "metadata": {},
       "output_type": "pyout",
       "prompt_number": 15,
       "text": [
        "<matplotlib.axes.AxesSubplot at 0x10eb49990>"
       ]
      },
      {
       "metadata": {},
       "output_type": "display_data",
       "png": "[encoded data removed]",
       "text": [
        "<matplotlib.figure.Figure at 0x10eb49290>"
       ]
      }
     ],
     "prompt_number": 15
    },
    {
     "cell_type": "code",
     "collapsed": false,
     "input": [],
     "language": "python",
     "metadata": {},
     "outputs": []
    }
   ],
   "metadata": {}
  }
 ]
}